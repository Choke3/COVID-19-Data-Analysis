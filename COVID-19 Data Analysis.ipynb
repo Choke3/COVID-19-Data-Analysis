{
 "cells": [
  {
   "cell_type": "markdown",
   "metadata": {},
   "source": [
    "   #                      COVID-19 DATA ANALYSIS"
   ]
  },
  {
   "cell_type": "markdown",
   "metadata": {
    "colab_type": "text",
    "id": "DlKUkBL7CbAx"
   },
   "source": [
    "# Gathering Data"
   ]
  },
  {
   "cell_type": "code",
   "execution_count": 229,
   "metadata": {
    "colab": {},
    "colab_type": "code",
    "id": "eESjGmHTajXZ"
   },
   "outputs": [],
   "source": [
    "# import python libraries\n",
    "import requests\n",
    "import pandas as pd\n",
    "from bs4 import BeautifulSoup\n",
    "import numpy as np\n",
    "import matplotlib.pyplot as plt\n",
    "%matplotlib inline\n",
    "import seaborn as sns\n",
    "plt.style.use(\"fivethirtyeight\")"
   ]
  },
  {
   "cell_type": "code",
   "execution_count": 230,
   "metadata": {
    "colab": {},
    "colab_type": "code",
    "id": "Iu_DjKH0awbl"
   },
   "outputs": [
    {
     "data": {
      "text/plain": [
       "200"
      ]
     },
     "execution_count": 230,
     "metadata": {},
     "output_type": "execute_result"
    }
   ],
   "source": [
    "# Grab Worldwide covid-19 data website\n",
    "page = requests.get(\"https://www.worldometers.info/coronavirus/\")\n",
    "\n",
    "#Check out whether the website can be accessible for scraping\n",
    "page.status_code"
   ]
  },
  {
   "cell_type": "code",
   "execution_count": 231,
   "metadata": {
    "colab": {},
    "colab_type": "code",
    "id": "vQ6qpcYaa7-h"
   },
   "outputs": [],
   "source": [
    "# Parse Worldwide data from \n",
    "soup = BeautifulSoup(page.content, \"lxml\")\n",
    "items = soup.find(\"tbody\")\n"
   ]
  },
  {
   "cell_type": "code",
   "execution_count": 232,
   "metadata": {
    "colab": {},
    "colab_type": "code",
    "id": "DukI34SccAdQ"
   },
   "outputs": [],
   "source": [
    "\n",
    "data = [item.text for item in items.find_all('td')]\n",
    "data_chunksize = [data[i:i + 13] for i in range(0, len(data), 13)]\n",
    "data_chunksize = data_chunksize[8:]\n",
    "country = [i[0] for i in data_chunksize]\n",
    "total_cases = [i[1] for i in data_chunksize]\n",
    "new_cases = [i[2] for i in data_chunksize]\n",
    "\n",
    "total_deaths = [i[3] for i in data_chunksize]\n",
    "new_deaths = [i[4] for i in data_chunksize]\n",
    "total_recovered = [i[5] for i in data_chunksize]\n",
    "\n",
    "active_cases = [i[6] for i in data_chunksize]\n",
    "critical = [i[7] for i in data_chunksize]\n",
    "total_cases_per_1M = [i[8] for i in data_chunksize]\n",
    "\n",
    "deaths_per_1M = [i[9] for i in data_chunksize]\n",
    "total_tests = [i[10] for i in data_chunksize]\n",
    "tests_per_1M = [i[11] for i in data_chunksize]\n",
    "continent = [i[12] for i in data_chunksize]\n"
   ]
  },
  {
   "cell_type": "code",
   "execution_count": 233,
   "metadata": {
    "colab": {},
    "colab_type": "code",
    "id": "By4BOGPHclQG"
   },
   "outputs": [],
   "source": [
    "worldwide = pd.DataFrame({\"Country\" : country,\n",
    "                          \"Continent\" :continent,\n",
    "                          \"Total Cases\" : total_cases,\n",
    "                          \"New Cases\" : new_cases,\n",
    "                          \"Total Deaths\" : total_deaths,\n",
    "                          \"New Deaths\" : new_deaths,\n",
    "                          \"Total Recovered\" : total_recovered,\n",
    "                          \"Active Cases\" : active_cases, \n",
    "                          \"Serious/Critical\" : critical, \n",
    "                          \"Total Cases/1M pop\" : total_cases_per_1M,\n",
    "                          \"Deaths/1M pop\" : deaths_per_1M,\n",
    "                          \"Total Tests\" : total_tests, \n",
    "                          \"Tests/1M pop\" : tests_per_1M})"
   ]
  },
  {
   "cell_type": "code",
   "execution_count": 234,
   "metadata": {
    "colab": {},
    "colab_type": "code",
    "id": "ygd9RJudAV2b"
   },
   "outputs": [],
   "source": [
    "# Grab USA covid-19 data website\n",
    "page_1 = requests.get(\"https://www.worldometers.info/coronavirus/country/us/\")\n",
    "\n",
    "# Parse USA data from HTML file\n",
    "soup_1 = BeautifulSoup(page_1.content, \"lxml\")\n",
    "items_1 = soup_1.find(\"tbody\")\n",
    "\n",
    "data_1 = [item_1.text.replace('\\n', \"\").strip() for item_1 in items_1.find_all('td')]\n",
    "data_chunksize_1 = [data_1[i:i + 11] for i in range(0, len(data_1), 11)]\n",
    "\n",
    "usa_state = [i[0] for i in data_chunksize_1]\n",
    "total_cases_1 = [i[1] for i in data_chunksize_1]\n",
    "new_cases_1 = [i[2] for i in data_chunksize_1]\n",
    "\n",
    "total_deaths_1 = [i[3] for i in data_chunksize_1]\n",
    "new_deaths_1 = [i[4] for i in data_chunksize_1]\n",
    "active_cases_1 = [i[5] for i in data_chunksize_1]\n",
    "\n",
    "total_cases_per_1M_1 = [i[6] for i in data_chunksize_1]\n",
    "deaths_per_1M_1 = [i[7] for i in data_chunksize_1]\n",
    "\n",
    "total_tests_1 = [i[8] for i in data_chunksize_1]\n",
    "tests_per_1M_1 = [i[9] for i in data_chunksize_1]\n"
   ]
  },
  {
   "cell_type": "code",
   "execution_count": 235,
   "metadata": {
    "colab": {},
    "colab_type": "code",
    "id": "nCcX0Wb84ZY2"
   },
   "outputs": [],
   "source": [
    "usa = pd.DataFrame({\"USA State\" : usa_state,\n",
    "                  \"Total Cases\" : total_cases_1,\n",
    "                  \"New Cases\" : new_cases_1,\n",
    "                  \"Total Deaths\" : total_deaths_1,\n",
    "                  \"New Deaths\" : new_deaths_1,\n",
    "                  \"Active Cases\" : active_cases_1,  \n",
    "                  \"Total Cases/1M pop\" : total_cases_per_1M_1,\n",
    "                  \"Deaths/1M pop\" : deaths_per_1M_1,\n",
    "                  \"Total Tests\" : total_tests_1, \n",
    "                  \"Tests/1M pop\" : tests_per_1M_1})"
   ]
  },
  {
   "cell_type": "markdown",
   "metadata": {
    "colab_type": "text",
    "id": "zReT-I_YC0MY"
   },
   "source": [
    "## Assessing Data"
   ]
  },
  {
   "cell_type": "code",
   "execution_count": 236,
   "metadata": {
    "colab": {
     "base_uri": "https://localhost:8080/",
     "height": 195
    },
    "colab_type": "code",
    "id": "ZGjC8YutcOB4",
    "outputId": "af4947a8-6d89-425f-cbeb-bc8b48869d04"
   },
   "outputs": [
    {
     "data": {
      "text/html": [
       "<div>\n",
       "<style scoped>\n",
       "    .dataframe tbody tr th:only-of-type {\n",
       "        vertical-align: middle;\n",
       "    }\n",
       "\n",
       "    .dataframe tbody tr th {\n",
       "        vertical-align: top;\n",
       "    }\n",
       "\n",
       "    .dataframe thead th {\n",
       "        text-align: right;\n",
       "    }\n",
       "</style>\n",
       "<table border=\"1\" class=\"dataframe\">\n",
       "  <thead>\n",
       "    <tr style=\"text-align: right;\">\n",
       "      <th></th>\n",
       "      <th>Country</th>\n",
       "      <th>Continent</th>\n",
       "      <th>Total Cases</th>\n",
       "      <th>New Cases</th>\n",
       "      <th>Total Deaths</th>\n",
       "      <th>New Deaths</th>\n",
       "      <th>Total Recovered</th>\n",
       "      <th>Active Cases</th>\n",
       "      <th>Serious/Critical</th>\n",
       "      <th>Total Cases/1M pop</th>\n",
       "      <th>Deaths/1M pop</th>\n",
       "      <th>Total Tests</th>\n",
       "      <th>Tests/1M pop</th>\n",
       "    </tr>\n",
       "  </thead>\n",
       "  <tbody>\n",
       "    <tr>\n",
       "      <th>0</th>\n",
       "      <td>USA</td>\n",
       "      <td>North America</td>\n",
       "      <td>929,841</td>\n",
       "      <td>+4,609</td>\n",
       "      <td>52,843</td>\n",
       "      <td>+650</td>\n",
       "      <td>110,504</td>\n",
       "      <td>766,494</td>\n",
       "      <td>15,097</td>\n",
       "      <td>2,809</td>\n",
       "      <td>160</td>\n",
       "      <td>5,087,985</td>\n",
       "      <td>15,371</td>\n",
       "    </tr>\n",
       "    <tr>\n",
       "      <th>1</th>\n",
       "      <td>Spain</td>\n",
       "      <td>Europe</td>\n",
       "      <td>223,759</td>\n",
       "      <td>+3,995</td>\n",
       "      <td>22,902</td>\n",
       "      <td>+378</td>\n",
       "      <td>95,708</td>\n",
       "      <td>105,149</td>\n",
       "      <td>7,705</td>\n",
       "      <td>4,786</td>\n",
       "      <td>490</td>\n",
       "      <td>930,230</td>\n",
       "      <td>19,896</td>\n",
       "    </tr>\n",
       "    <tr>\n",
       "      <th>2</th>\n",
       "      <td>Italy</td>\n",
       "      <td>Europe</td>\n",
       "      <td>195,351</td>\n",
       "      <td>+2,357</td>\n",
       "      <td>26,384</td>\n",
       "      <td>+415</td>\n",
       "      <td>63,120</td>\n",
       "      <td>105,847</td>\n",
       "      <td>2,102</td>\n",
       "      <td>3,231</td>\n",
       "      <td>436</td>\n",
       "      <td>1,707,743</td>\n",
       "      <td>28,245</td>\n",
       "    </tr>\n",
       "    <tr>\n",
       "      <th>3</th>\n",
       "      <td>France</td>\n",
       "      <td>Europe</td>\n",
       "      <td>159,828</td>\n",
       "      <td></td>\n",
       "      <td>22,245</td>\n",
       "      <td></td>\n",
       "      <td>43,493</td>\n",
       "      <td>94,090</td>\n",
       "      <td>4,870</td>\n",
       "      <td>2,449</td>\n",
       "      <td>341</td>\n",
       "      <td>463,662</td>\n",
       "      <td>7,103</td>\n",
       "    </tr>\n",
       "    <tr>\n",
       "      <th>4</th>\n",
       "      <td>Germany</td>\n",
       "      <td>Europe</td>\n",
       "      <td>155,418</td>\n",
       "      <td>+419</td>\n",
       "      <td>5,805</td>\n",
       "      <td>+45</td>\n",
       "      <td>109,800</td>\n",
       "      <td>39,813</td>\n",
       "      <td>2,908</td>\n",
       "      <td>1,855</td>\n",
       "      <td>69</td>\n",
       "      <td>2,072,669</td>\n",
       "      <td>24,738</td>\n",
       "    </tr>\n",
       "  </tbody>\n",
       "</table>\n",
       "</div>"
      ],
      "text/plain": [
       "   Country      Continent Total Cases New Cases Total Deaths New Deaths  \\\n",
       "0      USA  North America     929,841    +4,609      52,843        +650   \n",
       "1    Spain         Europe     223,759    +3,995      22,902        +378   \n",
       "2    Italy         Europe     195,351    +2,357      26,384        +415   \n",
       "3   France         Europe     159,828                22,245               \n",
       "4  Germany         Europe     155,418      +419       5,805         +45   \n",
       "\n",
       "  Total Recovered Active Cases Serious/Critical Total Cases/1M pop  \\\n",
       "0         110,504      766,494           15,097              2,809   \n",
       "1          95,708      105,149            7,705              4,786   \n",
       "2          63,120      105,847            2,102              3,231   \n",
       "3          43,493       94,090            4,870              2,449   \n",
       "4         109,800       39,813            2,908              1,855   \n",
       "\n",
       "  Deaths/1M pop Total Tests Tests/1M pop  \n",
       "0           160   5,087,985       15,371  \n",
       "1           490     930,230       19,896  \n",
       "2           436   1,707,743       28,245  \n",
       "3           341     463,662        7,103  \n",
       "4            69   2,072,669       24,738  "
      ]
     },
     "execution_count": 236,
     "metadata": {},
     "output_type": "execute_result"
    }
   ],
   "source": [
    "# Display the first 5 rows of the worldwide data\n",
    "worldwide.head()"
   ]
  },
  {
   "cell_type": "code",
   "execution_count": 237,
   "metadata": {},
   "outputs": [
    {
     "data": {
      "text/html": [
       "<div>\n",
       "<style scoped>\n",
       "    .dataframe tbody tr th:only-of-type {\n",
       "        vertical-align: middle;\n",
       "    }\n",
       "\n",
       "    .dataframe tbody tr th {\n",
       "        vertical-align: top;\n",
       "    }\n",
       "\n",
       "    .dataframe thead th {\n",
       "        text-align: right;\n",
       "    }\n",
       "</style>\n",
       "<table border=\"1\" class=\"dataframe\">\n",
       "  <thead>\n",
       "    <tr style=\"text-align: right;\">\n",
       "      <th></th>\n",
       "      <th>Country</th>\n",
       "      <th>Continent</th>\n",
       "      <th>Total Cases</th>\n",
       "      <th>New Cases</th>\n",
       "      <th>Total Deaths</th>\n",
       "      <th>New Deaths</th>\n",
       "      <th>Total Recovered</th>\n",
       "      <th>Active Cases</th>\n",
       "      <th>Serious/Critical</th>\n",
       "      <th>Total Cases/1M pop</th>\n",
       "      <th>Deaths/1M pop</th>\n",
       "      <th>Total Tests</th>\n",
       "      <th>Tests/1M pop</th>\n",
       "    </tr>\n",
       "  </thead>\n",
       "  <tbody>\n",
       "    <tr>\n",
       "      <th>207</th>\n",
       "      <td>Sao Tome and Principe</td>\n",
       "      <td>Africa</td>\n",
       "      <td>4</td>\n",
       "      <td></td>\n",
       "      <td></td>\n",
       "      <td></td>\n",
       "      <td></td>\n",
       "      <td>4</td>\n",
       "      <td></td>\n",
       "      <td>18</td>\n",
       "      <td></td>\n",
       "      <td>19</td>\n",
       "      <td>87</td>\n",
       "    </tr>\n",
       "    <tr>\n",
       "      <th>208</th>\n",
       "      <td>Anguilla</td>\n",
       "      <td>North America</td>\n",
       "      <td>3</td>\n",
       "      <td></td>\n",
       "      <td></td>\n",
       "      <td></td>\n",
       "      <td>1</td>\n",
       "      <td>2</td>\n",
       "      <td></td>\n",
       "      <td>200</td>\n",
       "      <td></td>\n",
       "      <td></td>\n",
       "      <td></td>\n",
       "    </tr>\n",
       "    <tr>\n",
       "      <th>209</th>\n",
       "      <td>Saint Pierre Miquelon</td>\n",
       "      <td>North America</td>\n",
       "      <td>1</td>\n",
       "      <td></td>\n",
       "      <td></td>\n",
       "      <td></td>\n",
       "      <td></td>\n",
       "      <td>1</td>\n",
       "      <td></td>\n",
       "      <td>173</td>\n",
       "      <td></td>\n",
       "      <td></td>\n",
       "      <td></td>\n",
       "    </tr>\n",
       "    <tr>\n",
       "      <th>210</th>\n",
       "      <td>Yemen</td>\n",
       "      <td>Asia</td>\n",
       "      <td>1</td>\n",
       "      <td></td>\n",
       "      <td></td>\n",
       "      <td></td>\n",
       "      <td>1</td>\n",
       "      <td>0</td>\n",
       "      <td></td>\n",
       "      <td>0.03</td>\n",
       "      <td></td>\n",
       "      <td>120</td>\n",
       "      <td>4</td>\n",
       "    </tr>\n",
       "    <tr>\n",
       "      <th>211</th>\n",
       "      <td>China</td>\n",
       "      <td>Asia</td>\n",
       "      <td>82,816</td>\n",
       "      <td>+12</td>\n",
       "      <td>4,632</td>\n",
       "      <td></td>\n",
       "      <td>77,346</td>\n",
       "      <td>838</td>\n",
       "      <td>49</td>\n",
       "      <td>58</td>\n",
       "      <td>3</td>\n",
       "      <td></td>\n",
       "      <td></td>\n",
       "    </tr>\n",
       "  </tbody>\n",
       "</table>\n",
       "</div>"
      ],
      "text/plain": [
       "                   Country      Continent Total Cases New Cases Total Deaths  \\\n",
       "207  Sao Tome and Principe         Africa           4                          \n",
       "208               Anguilla  North America           3                          \n",
       "209  Saint Pierre Miquelon  North America           1                          \n",
       "210                  Yemen           Asia           1                          \n",
       "211                  China           Asia      82,816       +12       4,632    \n",
       "\n",
       "    New Deaths Total Recovered Active Cases Serious/Critical  \\\n",
       "207                                       4                    \n",
       "208                          1            2                    \n",
       "209                                       1                    \n",
       "210                          1            0                    \n",
       "211                     77,346          838               49   \n",
       "\n",
       "    Total Cases/1M pop Deaths/1M pop Total Tests Tests/1M pop  \n",
       "207                 18                        19           87  \n",
       "208                200                                         \n",
       "209                173                                         \n",
       "210               0.03                       120            4  \n",
       "211                 58             3                           "
      ]
     },
     "execution_count": 237,
     "metadata": {},
     "output_type": "execute_result"
    }
   ],
   "source": [
    "\n",
    "worldwide.tail()"
   ]
  },
  {
   "cell_type": "code",
   "execution_count": null,
   "metadata": {
    "colab": {
     "base_uri": "https://localhost:8080/",
     "height": 136
    },
    "colab_type": "code",
    "id": "J6WzGZe2FeTK",
    "outputId": "004b1364-c389-4d60-9c0a-9590ad9162e6"
   },
   "outputs": [],
   "source": []
  },
  {
   "cell_type": "code",
   "execution_count": 238,
   "metadata": {
    "colab": {
     "base_uri": "https://localhost:8080/",
     "height": 195
    },
    "colab_type": "code",
    "id": "5aiZVTR3jzgA",
    "outputId": "371a78fc-dd57-4882-a7ab-6b37cbcb005d"
   },
   "outputs": [
    {
     "data": {
      "text/html": [
       "<div>\n",
       "<style scoped>\n",
       "    .dataframe tbody tr th:only-of-type {\n",
       "        vertical-align: middle;\n",
       "    }\n",
       "\n",
       "    .dataframe tbody tr th {\n",
       "        vertical-align: top;\n",
       "    }\n",
       "\n",
       "    .dataframe thead th {\n",
       "        text-align: right;\n",
       "    }\n",
       "</style>\n",
       "<table border=\"1\" class=\"dataframe\">\n",
       "  <thead>\n",
       "    <tr style=\"text-align: right;\">\n",
       "      <th></th>\n",
       "      <th>USA State</th>\n",
       "      <th>Total Cases</th>\n",
       "      <th>New Cases</th>\n",
       "      <th>Total Deaths</th>\n",
       "      <th>New Deaths</th>\n",
       "      <th>Active Cases</th>\n",
       "      <th>Total Cases/1M pop</th>\n",
       "      <th>Deaths/1M pop</th>\n",
       "      <th>Total Tests</th>\n",
       "      <th>Tests/1M pop</th>\n",
       "    </tr>\n",
       "  </thead>\n",
       "  <tbody>\n",
       "    <tr>\n",
       "      <th>0</th>\n",
       "      <td>USA Total</td>\n",
       "      <td>929,841</td>\n",
       "      <td>+4,609</td>\n",
       "      <td>52,843</td>\n",
       "      <td>+650</td>\n",
       "      <td>766,494</td>\n",
       "      <td>2,809</td>\n",
       "      <td>160</td>\n",
       "      <td>5,087,985</td>\n",
       "      <td>15,371</td>\n",
       "    </tr>\n",
       "    <tr>\n",
       "      <th>1</th>\n",
       "      <td>New York</td>\n",
       "      <td>277,445</td>\n",
       "      <td></td>\n",
       "      <td>21,728</td>\n",
       "      <td>+437</td>\n",
       "      <td>224,499</td>\n",
       "      <td>14,142</td>\n",
       "      <td>1,108</td>\n",
       "      <td>730,656</td>\n",
       "      <td>37,243</td>\n",
       "    </tr>\n",
       "    <tr>\n",
       "      <th>2</th>\n",
       "      <td>New Jersey</td>\n",
       "      <td>102,196</td>\n",
       "      <td></td>\n",
       "      <td>5,617</td>\n",
       "      <td></td>\n",
       "      <td>95,308</td>\n",
       "      <td>11,506</td>\n",
       "      <td>632</td>\n",
       "      <td>205,921</td>\n",
       "      <td>23,184</td>\n",
       "    </tr>\n",
       "    <tr>\n",
       "      <th>3</th>\n",
       "      <td>Massachusetts</td>\n",
       "      <td>50,969</td>\n",
       "      <td></td>\n",
       "      <td>2,556</td>\n",
       "      <td></td>\n",
       "      <td>40,295</td>\n",
       "      <td>7,462</td>\n",
       "      <td>374</td>\n",
       "      <td>215,213</td>\n",
       "      <td>31,509</td>\n",
       "    </tr>\n",
       "    <tr>\n",
       "      <th>4</th>\n",
       "      <td>California</td>\n",
       "      <td>41,338</td>\n",
       "      <td>+526</td>\n",
       "      <td>1,618</td>\n",
       "      <td>+24</td>\n",
       "      <td>36,383</td>\n",
       "      <td>1,056</td>\n",
       "      <td>41</td>\n",
       "      <td>494,173</td>\n",
       "      <td>12,623</td>\n",
       "    </tr>\n",
       "  </tbody>\n",
       "</table>\n",
       "</div>"
      ],
      "text/plain": [
       "       USA State Total Cases New Cases Total Deaths New Deaths Active Cases  \\\n",
       "0      USA Total     929,841    +4,609       52,843       +650      766,494   \n",
       "1       New York     277,445                 21,728       +437      224,499   \n",
       "2     New Jersey     102,196                  5,617                  95,308   \n",
       "3  Massachusetts      50,969                  2,556                  40,295   \n",
       "4     California      41,338      +526        1,618        +24       36,383   \n",
       "\n",
       "  Total Cases/1M pop Deaths/1M pop Total Tests Tests/1M pop  \n",
       "0              2,809           160   5,087,985       15,371  \n",
       "1             14,142         1,108     730,656       37,243  \n",
       "2             11,506           632     205,921       23,184  \n",
       "3              7,462           374     215,213       31,509  \n",
       "4              1,056            41     494,173       12,623  "
      ]
     },
     "execution_count": 238,
     "metadata": {},
     "output_type": "execute_result"
    }
   ],
   "source": [
    "# Display the first 5 rows of the USA data\n",
    "usa.head()"
   ]
  },
  {
   "cell_type": "code",
   "execution_count": 239,
   "metadata": {
    "colab": {
     "base_uri": "https://localhost:8080/",
     "height": 50
    },
    "colab_type": "code",
    "id": "SvzHCOKfG-YQ",
    "outputId": "635595dc-f2da-427f-e403-af53afbde488"
   },
   "outputs": [
    {
     "name": "stdout",
     "output_type": "stream",
     "text": [
      "The number worldwide countries in this dataset is 212\n",
      "The number of USA States and territories in this dataset is 52\n"
     ]
    }
   ],
   "source": [
    "# Number of countries and USA states affected by covid-19 respectively\n",
    "print(\"The number worldwide countries in this dataset is {}\".format(worldwide.shape[0]))\n",
    "print(\"The number of USA States and territories in this dataset is {}\".format(usa.shape[0]))"
   ]
  },
  {
   "cell_type": "code",
   "execution_count": 240,
   "metadata": {
    "colab": {
     "base_uri": "https://localhost:8080/",
     "height": 336
    },
    "colab_type": "code",
    "id": "Tycr2zMZ6fq-",
    "outputId": "15786562-a4fb-456b-821b-d2d5382448bb"
   },
   "outputs": [
    {
     "name": "stdout",
     "output_type": "stream",
     "text": [
      "<class 'pandas.core.frame.DataFrame'>\n",
      "RangeIndex: 212 entries, 0 to 211\n",
      "Data columns (total 13 columns):\n",
      " #   Column              Non-Null Count  Dtype \n",
      "---  ------              --------------  ----- \n",
      " 0   Country             212 non-null    object\n",
      " 1   Continent           212 non-null    object\n",
      " 2   Total Cases         212 non-null    object\n",
      " 3   New Cases           212 non-null    object\n",
      " 4   Total Deaths        212 non-null    object\n",
      " 5   New Deaths          212 non-null    object\n",
      " 6   Total Recovered     212 non-null    object\n",
      " 7   Active Cases        212 non-null    object\n",
      " 8   Serious/Critical    212 non-null    object\n",
      " 9   Total Cases/1M pop  212 non-null    object\n",
      " 10  Deaths/1M pop       212 non-null    object\n",
      " 11  Total Tests         212 non-null    object\n",
      " 12  Tests/1M pop        212 non-null    object\n",
      "dtypes: object(13)\n",
      "memory usage: 21.7+ KB\n"
     ]
    }
   ],
   "source": [
    "# Show the brief summary of  worldwide data\n",
    "worldwide.info()"
   ]
  },
  {
   "cell_type": "code",
   "execution_count": 241,
   "metadata": {
    "colab": {
     "base_uri": "https://localhost:8080/",
     "height": 302
    },
    "colab_type": "code",
    "id": "3fd0x69eE6iq",
    "outputId": "035aa7b4-82b1-4610-a83d-47f5e4088f52"
   },
   "outputs": [
    {
     "name": "stdout",
     "output_type": "stream",
     "text": [
      "<class 'pandas.core.frame.DataFrame'>\n",
      "RangeIndex: 52 entries, 0 to 51\n",
      "Data columns (total 10 columns):\n",
      " #   Column              Non-Null Count  Dtype \n",
      "---  ------              --------------  ----- \n",
      " 0   USA State           52 non-null     object\n",
      " 1   Total Cases         52 non-null     object\n",
      " 2   New Cases           52 non-null     object\n",
      " 3   Total Deaths        52 non-null     object\n",
      " 4   New Deaths          52 non-null     object\n",
      " 5   Active Cases        52 non-null     object\n",
      " 6   Total Cases/1M pop  52 non-null     object\n",
      " 7   Deaths/1M pop       52 non-null     object\n",
      " 8   Total Tests         52 non-null     object\n",
      " 9   Tests/1M pop        52 non-null     object\n",
      "dtypes: object(10)\n",
      "memory usage: 4.2+ KB\n"
     ]
    }
   ],
   "source": [
    "# Show the brief summary of  USA dataset\n",
    "usa.info()"
   ]
  },
  {
   "cell_type": "markdown",
   "metadata": {
    "colab_type": "text",
    "id": "zc9AzliZRSeT"
   },
   "source": [
    "# Cleaning Worldwide Dataset"
   ]
  },
  {
   "cell_type": "code",
   "execution_count": 242,
   "metadata": {
    "colab": {
     "base_uri": "https://localhost:8080/",
     "height": 136
    },
    "colab_type": "code",
    "id": "s5z7hgTHgvFj",
    "outputId": "d6c86611-b72d-424c-e626-7948159d5d6b"
   },
   "outputs": [
    {
     "data": {
      "text/html": [
       "<div>\n",
       "<style scoped>\n",
       "    .dataframe tbody tr th:only-of-type {\n",
       "        vertical-align: middle;\n",
       "    }\n",
       "\n",
       "    .dataframe tbody tr th {\n",
       "        vertical-align: top;\n",
       "    }\n",
       "\n",
       "    .dataframe thead th {\n",
       "        text-align: right;\n",
       "    }\n",
       "</style>\n",
       "<table border=\"1\" class=\"dataframe\">\n",
       "  <thead>\n",
       "    <tr style=\"text-align: right;\">\n",
       "      <th></th>\n",
       "      <th>Country</th>\n",
       "      <th>Continent</th>\n",
       "      <th>Total Cases</th>\n",
       "      <th>New Cases</th>\n",
       "      <th>Total Deaths</th>\n",
       "      <th>New Deaths</th>\n",
       "      <th>Total Recovered</th>\n",
       "      <th>Active Cases</th>\n",
       "      <th>Serious/Critical</th>\n",
       "      <th>Total Cases/1M pop</th>\n",
       "      <th>Deaths/1M pop</th>\n",
       "      <th>Total Tests</th>\n",
       "      <th>Tests/1M pop</th>\n",
       "    </tr>\n",
       "  </thead>\n",
       "  <tbody>\n",
       "    <tr>\n",
       "      <th>0</th>\n",
       "      <td>USA</td>\n",
       "      <td>North America</td>\n",
       "      <td>929,841</td>\n",
       "      <td>4,609</td>\n",
       "      <td>52,843</td>\n",
       "      <td>650</td>\n",
       "      <td>110,504</td>\n",
       "      <td>766,494</td>\n",
       "      <td>15,097</td>\n",
       "      <td>2,809</td>\n",
       "      <td>160</td>\n",
       "      <td>5,087,985</td>\n",
       "      <td>15,371</td>\n",
       "    </tr>\n",
       "    <tr>\n",
       "      <th>1</th>\n",
       "      <td>Spain</td>\n",
       "      <td>Europe</td>\n",
       "      <td>223,759</td>\n",
       "      <td>3,995</td>\n",
       "      <td>22,902</td>\n",
       "      <td>378</td>\n",
       "      <td>95,708</td>\n",
       "      <td>105,149</td>\n",
       "      <td>7,705</td>\n",
       "      <td>4,786</td>\n",
       "      <td>490</td>\n",
       "      <td>930,230</td>\n",
       "      <td>19,896</td>\n",
       "    </tr>\n",
       "    <tr>\n",
       "      <th>2</th>\n",
       "      <td>Italy</td>\n",
       "      <td>Europe</td>\n",
       "      <td>195,351</td>\n",
       "      <td>2,357</td>\n",
       "      <td>26,384</td>\n",
       "      <td>415</td>\n",
       "      <td>63,120</td>\n",
       "      <td>105,847</td>\n",
       "      <td>2,102</td>\n",
       "      <td>3,231</td>\n",
       "      <td>436</td>\n",
       "      <td>1,707,743</td>\n",
       "      <td>28,245</td>\n",
       "    </tr>\n",
       "  </tbody>\n",
       "</table>\n",
       "</div>"
      ],
      "text/plain": [
       "  Country      Continent Total Cases New Cases Total Deaths New Deaths  \\\n",
       "0     USA  North America     929,841     4,609      52,843         650   \n",
       "1   Spain         Europe     223,759     3,995      22,902         378   \n",
       "2   Italy         Europe     195,351     2,357      26,384         415   \n",
       "\n",
       "  Total Recovered Active Cases Serious/Critical Total Cases/1M pop  \\\n",
       "0         110,504      766,494           15,097              2,809   \n",
       "1          95,708      105,149            7,705              4,786   \n",
       "2          63,120      105,847            2,102              3,231   \n",
       "\n",
       "  Deaths/1M pop Total Tests Tests/1M pop  \n",
       "0           160   5,087,985       15,371  \n",
       "1           490     930,230       19,896  \n",
       "2           436   1,707,743       28,245  "
      ]
     },
     "execution_count": 242,
     "metadata": {},
     "output_type": "execute_result"
    }
   ],
   "source": [
    "# Strip \"+\" from \"New Cases\" and \"New Deaths\" columns\n",
    "worldwide[\"New Cases\"] = worldwide[\"New Cases\"].str.strip(\"+\")\n",
    "worldwide[\"New Deaths\"] = worldwide[\"New Deaths\"].str.strip(\"+\")\n",
    "worldwide.head(3)"
   ]
  },
  {
   "cell_type": "code",
   "execution_count": 243,
   "metadata": {
    "colab": {
     "base_uri": "https://localhost:8080/",
     "height": 136
    },
    "colab_type": "code",
    "id": "ppBUbdE-iwiu",
    "outputId": "63906845-7ed1-42f3-fb71-0841add34219"
   },
   "outputs": [],
   "source": [
    "# Remove \",\" from column values and strip off white spaces\n",
    "for col in worldwide.columns:\n",
    "  worldwide[col]= worldwide[col].str.replace(\",\", \"\").str.strip()\n"
   ]
  },
  {
   "cell_type": "code",
   "execution_count": 244,
   "metadata": {
    "colab": {},
    "colab_type": "code",
    "id": "GwWL2is01O6e"
   },
   "outputs": [],
   "source": [
    "# Replace empty cells with zero(0)\n",
    "for col in worldwide.columns:\n",
    "    worldwide[col].replace(\"\", 0, inplace=True)"
   ]
  },
  {
   "cell_type": "code",
   "execution_count": 245,
   "metadata": {},
   "outputs": [
    {
     "data": {
      "text/plain": [
       "array(['110504', '95708', '63120', '43493', '109800', 'N/A', '21737',\n",
       "       '68193', '6250', '27655', '10417', '15469', '21000', '5498',\n",
       "       '1277', '1366', '7496', '9233', '1005', '2215', '12103', '6159',\n",
       "       '7149', '6746', '1530', '1002', '2755', '2126', '8635', '2890',\n",
       "       '1573', '929', '1760', '1042', '5669', '782', '1152', '32', '2453',\n",
       "       '792', '5372', '763', '3762', '319', '113', '1003', '2500', '1473',\n",
       "       '1075', '498', '3007', '1030', '825', '1479', '2547', '656',\n",
       "       '1160', '629', '577', '458', '1034', '329', '707', '1570', '1204',\n",
       "       '803', '228', '1080', '697', '592', '188', '1118', '460', '219',\n",
       "       '386', '374', '437', '134', '197', '208', '419', '753', '373',\n",
       "       '191', '194', '98', '54', '267', '344', '403', '645', '143', '216',\n",
       "       '289', '345', '425', '276', '58', '369', '295', '64', '92', '139',\n",
       "       '118', '249', '332', '30', '275', '49', '300', '8', '144', '87',\n",
       "       '153', '132', '243', '48', '28', '75', '225', '78', '7', '19',\n",
       "       '178', '26', '77', '82', '10', '121', '16', '131', '62', '29',\n",
       "       '117', '25', '52', '69', '39', '41', '1', '37', '55', '31', '46',\n",
       "       '22', '15', '12', '6', '18', '27', '3', '11', '24', '9', '4', '2',\n",
       "       0, '5', '17', '77346'], dtype=object)"
      ]
     },
     "execution_count": 245,
     "metadata": {},
     "output_type": "execute_result"
    }
   ],
   "source": [
    "worldwide[\"Total Recovered\"].unique()"
   ]
  },
  {
   "cell_type": "code",
   "execution_count": 246,
   "metadata": {},
   "outputs": [],
   "source": [
    "# Replace \"N/A\" with zero(0)\n",
    "for col in worldwide.columns:\n",
    "    worldwide[col].replace(\"N/A\", 0, inplace=True)"
   ]
  },
  {
   "cell_type": "code",
   "execution_count": 247,
   "metadata": {},
   "outputs": [
    {
     "data": {
      "text/plain": [
       "Country               0\n",
       "Continent             0\n",
       "Total Cases           0\n",
       "New Cases             0\n",
       "Total Deaths          0\n",
       "New Deaths            0\n",
       "Total Recovered       0\n",
       "Active Cases          0\n",
       "Serious/Critical      0\n",
       "Total Cases/1M pop    0\n",
       "Deaths/1M pop         0\n",
       "Total Tests           0\n",
       "Tests/1M pop          0\n",
       "dtype: int64"
      ]
     },
     "execution_count": 247,
     "metadata": {},
     "output_type": "execute_result"
    }
   ],
   "source": [
    "worldwide.isnull().sum()"
   ]
  },
  {
   "cell_type": "code",
   "execution_count": 248,
   "metadata": {
    "colab": {},
    "colab_type": "code",
    "id": "45uASudTWvhC"
   },
   "outputs": [],
   "source": [
    "# Change all datatpyes of worldwide dataset to int except \"Country\" column\n",
    "worldwide = worldwide.astype({'New Cases' : int,\n",
    "                              'Total Cases' : int, \n",
    "                              'Total Deaths' : int,\n",
    "                              'New Deaths' : int,\n",
    "                              'Total Recovered' : int,\n",
    "                              'Active Cases' : int, \n",
    "                              'Serious/Critical' : int, \n",
    "                              'Total Cases/1M pop' : float,\n",
    "                              'Deaths/1M pop' : float,\n",
    "                              'Total Tests' : int, \n",
    "                              'Tests/1M pop' : float})\n"
   ]
  },
  {
   "cell_type": "code",
   "execution_count": 249,
   "metadata": {
    "colab": {
     "base_uri": "https://localhost:8080/",
     "height": 336
    },
    "colab_type": "code",
    "id": "DIBgVZjYRGNk",
    "outputId": "22da0e9e-b932-4856-b483-ecac03139562"
   },
   "outputs": [
    {
     "name": "stdout",
     "output_type": "stream",
     "text": [
      "<class 'pandas.core.frame.DataFrame'>\n",
      "RangeIndex: 212 entries, 0 to 211\n",
      "Data columns (total 13 columns):\n",
      " #   Column              Non-Null Count  Dtype  \n",
      "---  ------              --------------  -----  \n",
      " 0   Country             212 non-null    object \n",
      " 1   Continent           212 non-null    object \n",
      " 2   Total Cases         212 non-null    int32  \n",
      " 3   New Cases           212 non-null    int32  \n",
      " 4   Total Deaths        212 non-null    int32  \n",
      " 5   New Deaths          212 non-null    int32  \n",
      " 6   Total Recovered     212 non-null    int32  \n",
      " 7   Active Cases        212 non-null    int32  \n",
      " 8   Serious/Critical    212 non-null    int32  \n",
      " 9   Total Cases/1M pop  212 non-null    float64\n",
      " 10  Deaths/1M pop       212 non-null    float64\n",
      " 11  Total Tests         212 non-null    int32  \n",
      " 12  Tests/1M pop        212 non-null    float64\n",
      "dtypes: float64(3), int32(8), object(2)\n",
      "memory usage: 15.0+ KB\n"
     ]
    }
   ],
   "source": [
    "worldwide.info()"
   ]
  },
  {
   "cell_type": "code",
   "execution_count": 250,
   "metadata": {
    "colab": {
     "base_uri": "https://localhost:8080/",
     "height": 343
    },
    "colab_type": "code",
    "id": "NQX7iD_bYKCL",
    "outputId": "b65176ce-de34-4d88-9261-d0fc6bfc98de"
   },
   "outputs": [
    {
     "data": {
      "text/html": [
       "<div>\n",
       "<style scoped>\n",
       "    .dataframe tbody tr th:only-of-type {\n",
       "        vertical-align: middle;\n",
       "    }\n",
       "\n",
       "    .dataframe tbody tr th {\n",
       "        vertical-align: top;\n",
       "    }\n",
       "\n",
       "    .dataframe thead th {\n",
       "        text-align: right;\n",
       "    }\n",
       "</style>\n",
       "<table border=\"1\" class=\"dataframe\">\n",
       "  <thead>\n",
       "    <tr style=\"text-align: right;\">\n",
       "      <th></th>\n",
       "      <th>Country</th>\n",
       "      <th>Continent</th>\n",
       "      <th>Total Cases</th>\n",
       "      <th>New Cases</th>\n",
       "      <th>Total Deaths</th>\n",
       "      <th>New Deaths</th>\n",
       "      <th>Total Recovered</th>\n",
       "      <th>Active Cases</th>\n",
       "      <th>Serious/Critical</th>\n",
       "      <th>Total Cases/1M pop</th>\n",
       "      <th>Deaths/1M pop</th>\n",
       "      <th>Total Tests</th>\n",
       "      <th>Tests/1M pop</th>\n",
       "    </tr>\n",
       "  </thead>\n",
       "  <tbody>\n",
       "    <tr>\n",
       "      <th>0</th>\n",
       "      <td>USA</td>\n",
       "      <td>North America</td>\n",
       "      <td>929841</td>\n",
       "      <td>4609</td>\n",
       "      <td>52843</td>\n",
       "      <td>650</td>\n",
       "      <td>110504</td>\n",
       "      <td>766494</td>\n",
       "      <td>15097</td>\n",
       "      <td>2809.0</td>\n",
       "      <td>160.0</td>\n",
       "      <td>5087985</td>\n",
       "      <td>15371.0</td>\n",
       "    </tr>\n",
       "    <tr>\n",
       "      <th>1</th>\n",
       "      <td>Spain</td>\n",
       "      <td>Europe</td>\n",
       "      <td>223759</td>\n",
       "      <td>3995</td>\n",
       "      <td>22902</td>\n",
       "      <td>378</td>\n",
       "      <td>95708</td>\n",
       "      <td>105149</td>\n",
       "      <td>7705</td>\n",
       "      <td>4786.0</td>\n",
       "      <td>490.0</td>\n",
       "      <td>930230</td>\n",
       "      <td>19896.0</td>\n",
       "    </tr>\n",
       "    <tr>\n",
       "      <th>2</th>\n",
       "      <td>Italy</td>\n",
       "      <td>Europe</td>\n",
       "      <td>195351</td>\n",
       "      <td>2357</td>\n",
       "      <td>26384</td>\n",
       "      <td>415</td>\n",
       "      <td>63120</td>\n",
       "      <td>105847</td>\n",
       "      <td>2102</td>\n",
       "      <td>3231.0</td>\n",
       "      <td>436.0</td>\n",
       "      <td>1707743</td>\n",
       "      <td>28245.0</td>\n",
       "    </tr>\n",
       "    <tr>\n",
       "      <th>3</th>\n",
       "      <td>France</td>\n",
       "      <td>Europe</td>\n",
       "      <td>159828</td>\n",
       "      <td>0</td>\n",
       "      <td>22245</td>\n",
       "      <td>0</td>\n",
       "      <td>43493</td>\n",
       "      <td>94090</td>\n",
       "      <td>4870</td>\n",
       "      <td>2449.0</td>\n",
       "      <td>341.0</td>\n",
       "      <td>463662</td>\n",
       "      <td>7103.0</td>\n",
       "    </tr>\n",
       "    <tr>\n",
       "      <th>4</th>\n",
       "      <td>Germany</td>\n",
       "      <td>Europe</td>\n",
       "      <td>155418</td>\n",
       "      <td>419</td>\n",
       "      <td>5805</td>\n",
       "      <td>45</td>\n",
       "      <td>109800</td>\n",
       "      <td>39813</td>\n",
       "      <td>2908</td>\n",
       "      <td>1855.0</td>\n",
       "      <td>69.0</td>\n",
       "      <td>2072669</td>\n",
       "      <td>24738.0</td>\n",
       "    </tr>\n",
       "    <tr>\n",
       "      <th>5</th>\n",
       "      <td>UK</td>\n",
       "      <td>Europe</td>\n",
       "      <td>148377</td>\n",
       "      <td>4913</td>\n",
       "      <td>20319</td>\n",
       "      <td>813</td>\n",
       "      <td>0</td>\n",
       "      <td>127714</td>\n",
       "      <td>1559</td>\n",
       "      <td>2186.0</td>\n",
       "      <td>299.0</td>\n",
       "      <td>640792</td>\n",
       "      <td>9439.0</td>\n",
       "    </tr>\n",
       "    <tr>\n",
       "      <th>6</th>\n",
       "      <td>Turkey</td>\n",
       "      <td>Asia</td>\n",
       "      <td>104912</td>\n",
       "      <td>0</td>\n",
       "      <td>2600</td>\n",
       "      <td>0</td>\n",
       "      <td>21737</td>\n",
       "      <td>80575</td>\n",
       "      <td>1790</td>\n",
       "      <td>1244.0</td>\n",
       "      <td>31.0</td>\n",
       "      <td>830257</td>\n",
       "      <td>9844.0</td>\n",
       "    </tr>\n",
       "    <tr>\n",
       "      <th>7</th>\n",
       "      <td>Iran</td>\n",
       "      <td>Asia</td>\n",
       "      <td>89328</td>\n",
       "      <td>1134</td>\n",
       "      <td>5650</td>\n",
       "      <td>76</td>\n",
       "      <td>68193</td>\n",
       "      <td>15485</td>\n",
       "      <td>3096</td>\n",
       "      <td>1064.0</td>\n",
       "      <td>67.0</td>\n",
       "      <td>410075</td>\n",
       "      <td>4882.0</td>\n",
       "    </tr>\n",
       "    <tr>\n",
       "      <th>211</th>\n",
       "      <td>China</td>\n",
       "      <td>Asia</td>\n",
       "      <td>82816</td>\n",
       "      <td>12</td>\n",
       "      <td>4632</td>\n",
       "      <td>0</td>\n",
       "      <td>77346</td>\n",
       "      <td>838</td>\n",
       "      <td>49</td>\n",
       "      <td>58.0</td>\n",
       "      <td>3.0</td>\n",
       "      <td>0</td>\n",
       "      <td>0.0</td>\n",
       "    </tr>\n",
       "    <tr>\n",
       "      <th>8</th>\n",
       "      <td>Russia</td>\n",
       "      <td>Europe</td>\n",
       "      <td>74588</td>\n",
       "      <td>5966</td>\n",
       "      <td>681</td>\n",
       "      <td>66</td>\n",
       "      <td>6250</td>\n",
       "      <td>67657</td>\n",
       "      <td>2300</td>\n",
       "      <td>511.0</td>\n",
       "      <td>5.0</td>\n",
       "      <td>2721500</td>\n",
       "      <td>18649.0</td>\n",
       "    </tr>\n",
       "  </tbody>\n",
       "</table>\n",
       "</div>"
      ],
      "text/plain": [
       "     Country      Continent  Total Cases  New Cases  Total Deaths  New Deaths  \\\n",
       "0        USA  North America       929841       4609         52843         650   \n",
       "1      Spain         Europe       223759       3995         22902         378   \n",
       "2      Italy         Europe       195351       2357         26384         415   \n",
       "3     France         Europe       159828          0         22245           0   \n",
       "4    Germany         Europe       155418        419          5805          45   \n",
       "5         UK         Europe       148377       4913         20319         813   \n",
       "6     Turkey           Asia       104912          0          2600           0   \n",
       "7       Iran           Asia        89328       1134          5650          76   \n",
       "211    China           Asia        82816         12          4632           0   \n",
       "8     Russia         Europe        74588       5966           681          66   \n",
       "\n",
       "     Total Recovered  Active Cases  Serious/Critical  Total Cases/1M pop  \\\n",
       "0             110504        766494             15097              2809.0   \n",
       "1              95708        105149              7705              4786.0   \n",
       "2              63120        105847              2102              3231.0   \n",
       "3              43493         94090              4870              2449.0   \n",
       "4             109800         39813              2908              1855.0   \n",
       "5                  0        127714              1559              2186.0   \n",
       "6              21737         80575              1790              1244.0   \n",
       "7              68193         15485              3096              1064.0   \n",
       "211            77346           838                49                58.0   \n",
       "8               6250         67657              2300               511.0   \n",
       "\n",
       "     Deaths/1M pop  Total Tests  Tests/1M pop  \n",
       "0            160.0      5087985       15371.0  \n",
       "1            490.0       930230       19896.0  \n",
       "2            436.0      1707743       28245.0  \n",
       "3            341.0       463662        7103.0  \n",
       "4             69.0      2072669       24738.0  \n",
       "5            299.0       640792        9439.0  \n",
       "6             31.0       830257        9844.0  \n",
       "7             67.0       410075        4882.0  \n",
       "211            3.0            0           0.0  \n",
       "8              5.0      2721500       18649.0  "
      ]
     },
     "execution_count": 250,
     "metadata": {},
     "output_type": "execute_result"
    }
   ],
   "source": [
    "# Sort values by \"Total Cases\" column\n",
    "worldwide.sort_values(\"Total Cases\", ascending= False, inplace= True)\n",
    "\n",
    "# Display the first 10 rows of dataset\n",
    "worldwide.head(10)"
   ]
  },
  {
   "cell_type": "code",
   "execution_count": 251,
   "metadata": {
    "colab": {},
    "colab_type": "code",
    "id": "zSSOh1gC0FQ3"
   },
   "outputs": [],
   "source": [
    "# Export data as csv file\n",
    "worldwide.to_csv(\"worldwide_covid19.csv\", index=False)"
   ]
  },
  {
   "cell_type": "code",
   "execution_count": 252,
   "metadata": {
    "colab": {},
    "colab_type": "code",
    "id": "j8T57AfAYMHM"
   },
   "outputs": [],
   "source": [
    "# Rename column headers and convert to lowercase\n",
    "worldwide.columns = worldwide.columns.str.replace(\"/\", \" \")\n",
    "worldwide.columns = worldwide.columns.str.replace(\" \", \"_\").str.lower()"
   ]
  },
  {
   "cell_type": "code",
   "execution_count": 253,
   "metadata": {},
   "outputs": [],
   "source": [
    "worldwide.set_index(\"country\", inplace=True)"
   ]
  },
  {
   "cell_type": "code",
   "execution_count": 254,
   "metadata": {
    "colab": {
     "base_uri": "https://localhost:8080/",
     "height": 136
    },
    "colab_type": "code",
    "id": "W-Rh8jmUaRhe",
    "outputId": "cb0bc70b-5cdb-48d2-f58c-9b3aa0f420a5"
   },
   "outputs": [
    {
     "data": {
      "text/html": [
       "<div>\n",
       "<style scoped>\n",
       "    .dataframe tbody tr th:only-of-type {\n",
       "        vertical-align: middle;\n",
       "    }\n",
       "\n",
       "    .dataframe tbody tr th {\n",
       "        vertical-align: top;\n",
       "    }\n",
       "\n",
       "    .dataframe thead th {\n",
       "        text-align: right;\n",
       "    }\n",
       "</style>\n",
       "<table border=\"1\" class=\"dataframe\">\n",
       "  <thead>\n",
       "    <tr style=\"text-align: right;\">\n",
       "      <th></th>\n",
       "      <th>continent</th>\n",
       "      <th>total_cases</th>\n",
       "      <th>new_cases</th>\n",
       "      <th>total_deaths</th>\n",
       "      <th>new_deaths</th>\n",
       "      <th>total_recovered</th>\n",
       "      <th>active_cases</th>\n",
       "      <th>serious_critical</th>\n",
       "      <th>total_cases_1m_pop</th>\n",
       "      <th>deaths_1m_pop</th>\n",
       "      <th>total_tests</th>\n",
       "      <th>tests_1m_pop</th>\n",
       "    </tr>\n",
       "    <tr>\n",
       "      <th>country</th>\n",
       "      <th></th>\n",
       "      <th></th>\n",
       "      <th></th>\n",
       "      <th></th>\n",
       "      <th></th>\n",
       "      <th></th>\n",
       "      <th></th>\n",
       "      <th></th>\n",
       "      <th></th>\n",
       "      <th></th>\n",
       "      <th></th>\n",
       "      <th></th>\n",
       "    </tr>\n",
       "  </thead>\n",
       "  <tbody>\n",
       "    <tr>\n",
       "      <th>USA</th>\n",
       "      <td>North America</td>\n",
       "      <td>929841</td>\n",
       "      <td>4609</td>\n",
       "      <td>52843</td>\n",
       "      <td>650</td>\n",
       "      <td>110504</td>\n",
       "      <td>766494</td>\n",
       "      <td>15097</td>\n",
       "      <td>2809.0</td>\n",
       "      <td>160.0</td>\n",
       "      <td>5087985</td>\n",
       "      <td>15371.0</td>\n",
       "    </tr>\n",
       "    <tr>\n",
       "      <th>Spain</th>\n",
       "      <td>Europe</td>\n",
       "      <td>223759</td>\n",
       "      <td>3995</td>\n",
       "      <td>22902</td>\n",
       "      <td>378</td>\n",
       "      <td>95708</td>\n",
       "      <td>105149</td>\n",
       "      <td>7705</td>\n",
       "      <td>4786.0</td>\n",
       "      <td>490.0</td>\n",
       "      <td>930230</td>\n",
       "      <td>19896.0</td>\n",
       "    </tr>\n",
       "    <tr>\n",
       "      <th>Italy</th>\n",
       "      <td>Europe</td>\n",
       "      <td>195351</td>\n",
       "      <td>2357</td>\n",
       "      <td>26384</td>\n",
       "      <td>415</td>\n",
       "      <td>63120</td>\n",
       "      <td>105847</td>\n",
       "      <td>2102</td>\n",
       "      <td>3231.0</td>\n",
       "      <td>436.0</td>\n",
       "      <td>1707743</td>\n",
       "      <td>28245.0</td>\n",
       "    </tr>\n",
       "  </tbody>\n",
       "</table>\n",
       "</div>"
      ],
      "text/plain": [
       "             continent  total_cases  new_cases  total_deaths  new_deaths  \\\n",
       "country                                                                    \n",
       "USA      North America       929841       4609         52843         650   \n",
       "Spain           Europe       223759       3995         22902         378   \n",
       "Italy           Europe       195351       2357         26384         415   \n",
       "\n",
       "         total_recovered  active_cases  serious_critical  total_cases_1m_pop  \\\n",
       "country                                                                        \n",
       "USA               110504        766494             15097              2809.0   \n",
       "Spain              95708        105149              7705              4786.0   \n",
       "Italy              63120        105847              2102              3231.0   \n",
       "\n",
       "         deaths_1m_pop  total_tests  tests_1m_pop  \n",
       "country                                            \n",
       "USA              160.0      5087985       15371.0  \n",
       "Spain            490.0       930230       19896.0  \n",
       "Italy            436.0      1707743       28245.0  "
      ]
     },
     "execution_count": 254,
     "metadata": {},
     "output_type": "execute_result"
    }
   ],
   "source": [
    "worldwide.head(3)"
   ]
  },
  {
   "cell_type": "markdown",
   "metadata": {
    "colab_type": "text",
    "id": "7Sgmxak7AdK3"
   },
   "source": [
    "# Cleaning USA Dataset"
   ]
  },
  {
   "cell_type": "code",
   "execution_count": 255,
   "metadata": {
    "colab": {
     "base_uri": "https://localhost:8080/",
     "height": 343
    },
    "colab_type": "code",
    "id": "dKMow2hHYXEm",
    "outputId": "ffa34aaf-a6c5-43de-ebd8-799577547d0b"
   },
   "outputs": [
    {
     "data": {
      "text/html": [
       "<div>\n",
       "<style scoped>\n",
       "    .dataframe tbody tr th:only-of-type {\n",
       "        vertical-align: middle;\n",
       "    }\n",
       "\n",
       "    .dataframe tbody tr th {\n",
       "        vertical-align: top;\n",
       "    }\n",
       "\n",
       "    .dataframe thead th {\n",
       "        text-align: right;\n",
       "    }\n",
       "</style>\n",
       "<table border=\"1\" class=\"dataframe\">\n",
       "  <thead>\n",
       "    <tr style=\"text-align: right;\">\n",
       "      <th></th>\n",
       "      <th>USA State</th>\n",
       "      <th>Total Cases</th>\n",
       "      <th>New Cases</th>\n",
       "      <th>Total Deaths</th>\n",
       "      <th>New Deaths</th>\n",
       "      <th>Active Cases</th>\n",
       "      <th>Total Cases/1M pop</th>\n",
       "      <th>Deaths/1M pop</th>\n",
       "      <th>Total Tests</th>\n",
       "      <th>Tests/1M pop</th>\n",
       "    </tr>\n",
       "  </thead>\n",
       "  <tbody>\n",
       "    <tr>\n",
       "      <th>1</th>\n",
       "      <td>New York</td>\n",
       "      <td>277,445</td>\n",
       "      <td></td>\n",
       "      <td>21,728</td>\n",
       "      <td>+437</td>\n",
       "      <td>224,499</td>\n",
       "      <td>14,142</td>\n",
       "      <td>1,108</td>\n",
       "      <td>730,656</td>\n",
       "      <td>37,243</td>\n",
       "    </tr>\n",
       "    <tr>\n",
       "      <th>2</th>\n",
       "      <td>New Jersey</td>\n",
       "      <td>102,196</td>\n",
       "      <td></td>\n",
       "      <td>5,617</td>\n",
       "      <td></td>\n",
       "      <td>95,308</td>\n",
       "      <td>11,506</td>\n",
       "      <td>632</td>\n",
       "      <td>205,921</td>\n",
       "      <td>23,184</td>\n",
       "    </tr>\n",
       "    <tr>\n",
       "      <th>3</th>\n",
       "      <td>Massachusetts</td>\n",
       "      <td>50,969</td>\n",
       "      <td></td>\n",
       "      <td>2,556</td>\n",
       "      <td></td>\n",
       "      <td>40,295</td>\n",
       "      <td>7,462</td>\n",
       "      <td>374</td>\n",
       "      <td>215,213</td>\n",
       "      <td>31,509</td>\n",
       "    </tr>\n",
       "    <tr>\n",
       "      <th>4</th>\n",
       "      <td>California</td>\n",
       "      <td>41,338</td>\n",
       "      <td>+526</td>\n",
       "      <td>1,618</td>\n",
       "      <td>+24</td>\n",
       "      <td>36,383</td>\n",
       "      <td>1,056</td>\n",
       "      <td>41</td>\n",
       "      <td>494,173</td>\n",
       "      <td>12,623</td>\n",
       "    </tr>\n",
       "    <tr>\n",
       "      <th>5</th>\n",
       "      <td>Pennsylvania</td>\n",
       "      <td>40,149</td>\n",
       "      <td></td>\n",
       "      <td>1,736</td>\n",
       "      <td></td>\n",
       "      <td>37,763</td>\n",
       "      <td>3,139</td>\n",
       "      <td>136</td>\n",
       "      <td>186,143</td>\n",
       "      <td>14,552</td>\n",
       "    </tr>\n",
       "    <tr>\n",
       "      <th>6</th>\n",
       "      <td>Illinois</td>\n",
       "      <td>39,658</td>\n",
       "      <td></td>\n",
       "      <td>1,795</td>\n",
       "      <td></td>\n",
       "      <td>37,257</td>\n",
       "      <td>3,093</td>\n",
       "      <td>140</td>\n",
       "      <td>189,632</td>\n",
       "      <td>14,790</td>\n",
       "    </tr>\n",
       "    <tr>\n",
       "      <th>7</th>\n",
       "      <td>Michigan</td>\n",
       "      <td>36,641</td>\n",
       "      <td></td>\n",
       "      <td>3,085</td>\n",
       "      <td></td>\n",
       "      <td>30,284</td>\n",
       "      <td>3,680</td>\n",
       "      <td>310</td>\n",
       "      <td>140,130</td>\n",
       "      <td>14,073</td>\n",
       "    </tr>\n",
       "    <tr>\n",
       "      <th>8</th>\n",
       "      <td>Florida</td>\n",
       "      <td>30,839</td>\n",
       "      <td>+306</td>\n",
       "      <td>1,055</td>\n",
       "      <td>+9</td>\n",
       "      <td>29,098</td>\n",
       "      <td>1,497</td>\n",
       "      <td>51</td>\n",
       "      <td>334,974</td>\n",
       "      <td>16,262</td>\n",
       "    </tr>\n",
       "    <tr>\n",
       "      <th>9</th>\n",
       "      <td>Louisiana</td>\n",
       "      <td>26,140</td>\n",
       "      <td></td>\n",
       "      <td>1,660</td>\n",
       "      <td></td>\n",
       "      <td>9,553</td>\n",
       "      <td>5,605</td>\n",
       "      <td>356</td>\n",
       "      <td>142,056</td>\n",
       "      <td>30,460</td>\n",
       "    </tr>\n",
       "    <tr>\n",
       "      <th>10</th>\n",
       "      <td>Connecticut</td>\n",
       "      <td>23,921</td>\n",
       "      <td></td>\n",
       "      <td>1,764</td>\n",
       "      <td></td>\n",
       "      <td>22,092</td>\n",
       "      <td>6,679</td>\n",
       "      <td>493</td>\n",
       "      <td>74,038</td>\n",
       "      <td>20,672</td>\n",
       "    </tr>\n",
       "  </tbody>\n",
       "</table>\n",
       "</div>"
      ],
      "text/plain": [
       "        USA State Total Cases New Cases Total Deaths New Deaths Active Cases  \\\n",
       "1        New York     277,445                 21,728       +437      224,499   \n",
       "2      New Jersey     102,196                  5,617                  95,308   \n",
       "3   Massachusetts      50,969                  2,556                  40,295   \n",
       "4      California      41,338      +526        1,618        +24       36,383   \n",
       "5    Pennsylvania      40,149                  1,736                  37,763   \n",
       "6        Illinois      39,658                  1,795                  37,257   \n",
       "7        Michigan      36,641                  3,085                  30,284   \n",
       "8         Florida      30,839      +306        1,055         +9       29,098   \n",
       "9       Louisiana      26,140                  1,660                   9,553   \n",
       "10    Connecticut      23,921                  1,764                  22,092   \n",
       "\n",
       "   Total Cases/1M pop Deaths/1M pop Total Tests Tests/1M pop  \n",
       "1              14,142         1,108     730,656       37,243  \n",
       "2              11,506           632     205,921       23,184  \n",
       "3               7,462           374     215,213       31,509  \n",
       "4               1,056            41     494,173       12,623  \n",
       "5               3,139           136     186,143       14,552  \n",
       "6               3,093           140     189,632       14,790  \n",
       "7               3,680           310     140,130       14,073  \n",
       "8               1,497            51     334,974       16,262  \n",
       "9               5,605           356     142,056       30,460  \n",
       "10              6,679           493      74,038       20,672  "
      ]
     },
     "execution_count": 255,
     "metadata": {},
     "output_type": "execute_result"
    }
   ],
   "source": [
    "# Remove \"USA Total\" record from dataset\n",
    "usa = usa[usa[\"USA State\"] != \"USA Total\"]\n",
    "usa.head(10)"
   ]
  },
  {
   "cell_type": "code",
   "execution_count": 256,
   "metadata": {
    "colab": {},
    "colab_type": "code",
    "id": "kMGZFoT2iJgx"
   },
   "outputs": [],
   "source": [
    "# Strip \"+\" from \"New Cases\" and \"New Deaths\" columns\n",
    "usa[\"New Cases\"] = usa[\"New Cases\"].str.strip(\"+\")\n",
    "usa[\"New Deaths\"] = usa[\"New Deaths\"].str.strip(\"+\")\n",
    "\n"
   ]
  },
  {
   "cell_type": "code",
   "execution_count": 257,
   "metadata": {
    "colab": {
     "base_uri": "https://localhost:8080/",
     "height": 136
    },
    "colab_type": "code",
    "id": "sf4vwhjXK8TT",
    "outputId": "64c9a075-a566-4abd-e9f0-a669322650dd"
   },
   "outputs": [
    {
     "data": {
      "text/html": [
       "<div>\n",
       "<style scoped>\n",
       "    .dataframe tbody tr th:only-of-type {\n",
       "        vertical-align: middle;\n",
       "    }\n",
       "\n",
       "    .dataframe tbody tr th {\n",
       "        vertical-align: top;\n",
       "    }\n",
       "\n",
       "    .dataframe thead th {\n",
       "        text-align: right;\n",
       "    }\n",
       "</style>\n",
       "<table border=\"1\" class=\"dataframe\">\n",
       "  <thead>\n",
       "    <tr style=\"text-align: right;\">\n",
       "      <th></th>\n",
       "      <th>USA State</th>\n",
       "      <th>Total Cases</th>\n",
       "      <th>New Cases</th>\n",
       "      <th>Total Deaths</th>\n",
       "      <th>New Deaths</th>\n",
       "      <th>Active Cases</th>\n",
       "      <th>Total Cases/1M pop</th>\n",
       "      <th>Deaths/1M pop</th>\n",
       "      <th>Total Tests</th>\n",
       "      <th>Tests/1M pop</th>\n",
       "    </tr>\n",
       "  </thead>\n",
       "  <tbody>\n",
       "    <tr>\n",
       "      <th>1</th>\n",
       "      <td>New York</td>\n",
       "      <td>277445</td>\n",
       "      <td></td>\n",
       "      <td>21728</td>\n",
       "      <td>437</td>\n",
       "      <td>224499</td>\n",
       "      <td>14142</td>\n",
       "      <td>1108</td>\n",
       "      <td>730656</td>\n",
       "      <td>37243</td>\n",
       "    </tr>\n",
       "    <tr>\n",
       "      <th>2</th>\n",
       "      <td>New Jersey</td>\n",
       "      <td>102196</td>\n",
       "      <td></td>\n",
       "      <td>5617</td>\n",
       "      <td></td>\n",
       "      <td>95308</td>\n",
       "      <td>11506</td>\n",
       "      <td>632</td>\n",
       "      <td>205921</td>\n",
       "      <td>23184</td>\n",
       "    </tr>\n",
       "    <tr>\n",
       "      <th>3</th>\n",
       "      <td>Massachusetts</td>\n",
       "      <td>50969</td>\n",
       "      <td></td>\n",
       "      <td>2556</td>\n",
       "      <td></td>\n",
       "      <td>40295</td>\n",
       "      <td>7462</td>\n",
       "      <td>374</td>\n",
       "      <td>215213</td>\n",
       "      <td>31509</td>\n",
       "    </tr>\n",
       "  </tbody>\n",
       "</table>\n",
       "</div>"
      ],
      "text/plain": [
       "       USA State Total Cases New Cases Total Deaths New Deaths Active Cases  \\\n",
       "1       New York      277445                  21728        437       224499   \n",
       "2     New Jersey      102196                   5617                   95308   \n",
       "3  Massachusetts       50969                   2556                   40295   \n",
       "\n",
       "  Total Cases/1M pop Deaths/1M pop Total Tests Tests/1M pop  \n",
       "1              14142          1108      730656        37243  \n",
       "2              11506           632      205921        23184  \n",
       "3               7462           374      215213        31509  "
      ]
     },
     "execution_count": 257,
     "metadata": {},
     "output_type": "execute_result"
    }
   ],
   "source": [
    "# Remove \",\" from column values and strip off white spaces\n",
    "for col in usa.columns:\n",
    "  usa[col]= usa[col].str.replace(\",\", \"\").str.strip()\n",
    "usa.head(3) "
   ]
  },
  {
   "cell_type": "code",
   "execution_count": 258,
   "metadata": {
    "colab": {},
    "colab_type": "code",
    "id": "TV5h-fEy2iIP"
   },
   "outputs": [],
   "source": [
    "# Replace empty cells with zero(0)\n",
    "for col in usa.columns:\n",
    "  usa[col].replace(\"\", 0, inplace = True)"
   ]
  },
  {
   "cell_type": "code",
   "execution_count": 259,
   "metadata": {
    "colab": {
     "base_uri": "https://localhost:8080/",
     "height": 134
    },
    "colab_type": "code",
    "id": "cW6mQWjxFWZp",
    "outputId": "1184de26-9ee9-49eb-e957-5cfd891bff85"
   },
   "outputs": [
    {
     "data": {
      "text/plain": [
       "array(['37243', '23184', '31509', '12623', '14552', '14790', '14073',\n",
       "       '16262', '30460', '20672', '8698', '11558', '14845', '9200',\n",
       "       '11383', '21979', '8579', '10267', '19741', '10365', '48164',\n",
       "       '11004', '8740', '10821', '19726', '10371', '9483', '15699',\n",
       "       '10207', '27812', '10126', '25277', '18303', '9731', '13530',\n",
       "       '8109', '12724', '24617', '10559', '11145', '17152', '11471',\n",
       "       '13193', '17724', '13296', '23492', '23197', '19881', '13102',\n",
       "       '11996', '16170'], dtype=object)"
      ]
     },
     "execution_count": 259,
     "metadata": {},
     "output_type": "execute_result"
    }
   ],
   "source": [
    "usa[\"Tests/1M pop\"].unique()"
   ]
  },
  {
   "cell_type": "code",
   "execution_count": 260,
   "metadata": {
    "colab": {},
    "colab_type": "code",
    "id": "rEh5_-yGEva-"
   },
   "outputs": [],
   "source": [
    "# Change all datatpyes of worldwide dataset to int except \"USA State\" column\n",
    "usa = usa.astype({\"Total Cases\" : int,\n",
    "              \"New Cases\" : int,\n",
    "              \"Total Deaths\" : int,\n",
    "              \"New Deaths\" : int,\n",
    "              \"Active Cases\" : int,  \n",
    "              \"Total Cases/1M pop\" : float,\n",
    "              \"Deaths/1M pop\" : float,\n",
    "              \"Total Tests\" : int, \n",
    "              \"Tests/1M pop\" : float})"
   ]
  },
  {
   "cell_type": "code",
   "execution_count": 261,
   "metadata": {
    "colab": {
     "base_uri": "https://localhost:8080/",
     "height": 302
    },
    "colab_type": "code",
    "id": "3cr71KRFH5tm",
    "outputId": "4ca54649-3d84-43f7-fa41-1d16a05f1940"
   },
   "outputs": [
    {
     "name": "stdout",
     "output_type": "stream",
     "text": [
      "<class 'pandas.core.frame.DataFrame'>\n",
      "Int64Index: 51 entries, 1 to 51\n",
      "Data columns (total 10 columns):\n",
      " #   Column              Non-Null Count  Dtype  \n",
      "---  ------              --------------  -----  \n",
      " 0   USA State           51 non-null     object \n",
      " 1   Total Cases         51 non-null     int32  \n",
      " 2   New Cases           51 non-null     int32  \n",
      " 3   Total Deaths        51 non-null     int32  \n",
      " 4   New Deaths          51 non-null     int32  \n",
      " 5   Active Cases        51 non-null     int32  \n",
      " 6   Total Cases/1M pop  51 non-null     float64\n",
      " 7   Deaths/1M pop       51 non-null     float64\n",
      " 8   Total Tests         51 non-null     int32  \n",
      " 9   Tests/1M pop        51 non-null     float64\n",
      "dtypes: float64(3), int32(6), object(1)\n",
      "memory usage: 3.2+ KB\n"
     ]
    }
   ],
   "source": [
    "# Check out the conversion of dtypes\n",
    "usa.info()"
   ]
  },
  {
   "cell_type": "code",
   "execution_count": 262,
   "metadata": {
    "colab": {
     "base_uri": "https://localhost:8080/",
     "height": 343
    },
    "colab_type": "code",
    "id": "lq4kjL0hI_hJ",
    "outputId": "15d3ef11-aa55-402a-bbab-21a4e4e9b36c"
   },
   "outputs": [
    {
     "data": {
      "text/html": [
       "<div>\n",
       "<style scoped>\n",
       "    .dataframe tbody tr th:only-of-type {\n",
       "        vertical-align: middle;\n",
       "    }\n",
       "\n",
       "    .dataframe tbody tr th {\n",
       "        vertical-align: top;\n",
       "    }\n",
       "\n",
       "    .dataframe thead th {\n",
       "        text-align: right;\n",
       "    }\n",
       "</style>\n",
       "<table border=\"1\" class=\"dataframe\">\n",
       "  <thead>\n",
       "    <tr style=\"text-align: right;\">\n",
       "      <th></th>\n",
       "      <th>USA State</th>\n",
       "      <th>Total Cases</th>\n",
       "      <th>New Cases</th>\n",
       "      <th>Total Deaths</th>\n",
       "      <th>New Deaths</th>\n",
       "      <th>Active Cases</th>\n",
       "      <th>Total Cases/1M pop</th>\n",
       "      <th>Deaths/1M pop</th>\n",
       "      <th>Total Tests</th>\n",
       "      <th>Tests/1M pop</th>\n",
       "    </tr>\n",
       "  </thead>\n",
       "  <tbody>\n",
       "    <tr>\n",
       "      <th>1</th>\n",
       "      <td>New York</td>\n",
       "      <td>277445</td>\n",
       "      <td>0</td>\n",
       "      <td>21728</td>\n",
       "      <td>437</td>\n",
       "      <td>224499</td>\n",
       "      <td>14142.0</td>\n",
       "      <td>1108.0</td>\n",
       "      <td>730656</td>\n",
       "      <td>37243.0</td>\n",
       "    </tr>\n",
       "    <tr>\n",
       "      <th>2</th>\n",
       "      <td>New Jersey</td>\n",
       "      <td>102196</td>\n",
       "      <td>0</td>\n",
       "      <td>5617</td>\n",
       "      <td>0</td>\n",
       "      <td>95308</td>\n",
       "      <td>11506.0</td>\n",
       "      <td>632.0</td>\n",
       "      <td>205921</td>\n",
       "      <td>23184.0</td>\n",
       "    </tr>\n",
       "    <tr>\n",
       "      <th>3</th>\n",
       "      <td>Massachusetts</td>\n",
       "      <td>50969</td>\n",
       "      <td>0</td>\n",
       "      <td>2556</td>\n",
       "      <td>0</td>\n",
       "      <td>40295</td>\n",
       "      <td>7462.0</td>\n",
       "      <td>374.0</td>\n",
       "      <td>215213</td>\n",
       "      <td>31509.0</td>\n",
       "    </tr>\n",
       "    <tr>\n",
       "      <th>4</th>\n",
       "      <td>California</td>\n",
       "      <td>41338</td>\n",
       "      <td>526</td>\n",
       "      <td>1618</td>\n",
       "      <td>24</td>\n",
       "      <td>36383</td>\n",
       "      <td>1056.0</td>\n",
       "      <td>41.0</td>\n",
       "      <td>494173</td>\n",
       "      <td>12623.0</td>\n",
       "    </tr>\n",
       "    <tr>\n",
       "      <th>5</th>\n",
       "      <td>Pennsylvania</td>\n",
       "      <td>40149</td>\n",
       "      <td>0</td>\n",
       "      <td>1736</td>\n",
       "      <td>0</td>\n",
       "      <td>37763</td>\n",
       "      <td>3139.0</td>\n",
       "      <td>136.0</td>\n",
       "      <td>186143</td>\n",
       "      <td>14552.0</td>\n",
       "    </tr>\n",
       "    <tr>\n",
       "      <th>6</th>\n",
       "      <td>Illinois</td>\n",
       "      <td>39658</td>\n",
       "      <td>0</td>\n",
       "      <td>1795</td>\n",
       "      <td>0</td>\n",
       "      <td>37257</td>\n",
       "      <td>3093.0</td>\n",
       "      <td>140.0</td>\n",
       "      <td>189632</td>\n",
       "      <td>14790.0</td>\n",
       "    </tr>\n",
       "    <tr>\n",
       "      <th>7</th>\n",
       "      <td>Michigan</td>\n",
       "      <td>36641</td>\n",
       "      <td>0</td>\n",
       "      <td>3085</td>\n",
       "      <td>0</td>\n",
       "      <td>30284</td>\n",
       "      <td>3680.0</td>\n",
       "      <td>310.0</td>\n",
       "      <td>140130</td>\n",
       "      <td>14073.0</td>\n",
       "    </tr>\n",
       "    <tr>\n",
       "      <th>8</th>\n",
       "      <td>Florida</td>\n",
       "      <td>30839</td>\n",
       "      <td>306</td>\n",
       "      <td>1055</td>\n",
       "      <td>9</td>\n",
       "      <td>29098</td>\n",
       "      <td>1497.0</td>\n",
       "      <td>51.0</td>\n",
       "      <td>334974</td>\n",
       "      <td>16262.0</td>\n",
       "    </tr>\n",
       "    <tr>\n",
       "      <th>9</th>\n",
       "      <td>Louisiana</td>\n",
       "      <td>26140</td>\n",
       "      <td>0</td>\n",
       "      <td>1660</td>\n",
       "      <td>0</td>\n",
       "      <td>9553</td>\n",
       "      <td>5605.0</td>\n",
       "      <td>356.0</td>\n",
       "      <td>142056</td>\n",
       "      <td>30460.0</td>\n",
       "    </tr>\n",
       "    <tr>\n",
       "      <th>10</th>\n",
       "      <td>Connecticut</td>\n",
       "      <td>23921</td>\n",
       "      <td>0</td>\n",
       "      <td>1764</td>\n",
       "      <td>0</td>\n",
       "      <td>22092</td>\n",
       "      <td>6679.0</td>\n",
       "      <td>493.0</td>\n",
       "      <td>74038</td>\n",
       "      <td>20672.0</td>\n",
       "    </tr>\n",
       "  </tbody>\n",
       "</table>\n",
       "</div>"
      ],
      "text/plain": [
       "        USA State  Total Cases  New Cases  Total Deaths  New Deaths  \\\n",
       "1        New York       277445          0         21728         437   \n",
       "2      New Jersey       102196          0          5617           0   \n",
       "3   Massachusetts        50969          0          2556           0   \n",
       "4      California        41338        526          1618          24   \n",
       "5    Pennsylvania        40149          0          1736           0   \n",
       "6        Illinois        39658          0          1795           0   \n",
       "7        Michigan        36641          0          3085           0   \n",
       "8         Florida        30839        306          1055           9   \n",
       "9       Louisiana        26140          0          1660           0   \n",
       "10    Connecticut        23921          0          1764           0   \n",
       "\n",
       "    Active Cases  Total Cases/1M pop  Deaths/1M pop  Total Tests  Tests/1M pop  \n",
       "1         224499             14142.0         1108.0       730656       37243.0  \n",
       "2          95308             11506.0          632.0       205921       23184.0  \n",
       "3          40295              7462.0          374.0       215213       31509.0  \n",
       "4          36383              1056.0           41.0       494173       12623.0  \n",
       "5          37763              3139.0          136.0       186143       14552.0  \n",
       "6          37257              3093.0          140.0       189632       14790.0  \n",
       "7          30284              3680.0          310.0       140130       14073.0  \n",
       "8          29098              1497.0           51.0       334974       16262.0  \n",
       "9           9553              5605.0          356.0       142056       30460.0  \n",
       "10         22092              6679.0          493.0        74038       20672.0  "
      ]
     },
     "execution_count": 262,
     "metadata": {},
     "output_type": "execute_result"
    }
   ],
   "source": [
    "# Sort values by \"Total Cases\" column\n",
    "usa.sort_values(\"Total Cases\", ascending= False, inplace=True)\n",
    "\n",
    "# Display the first 10 rows of dataset\n",
    "usa.head(10)"
   ]
  },
  {
   "cell_type": "code",
   "execution_count": 263,
   "metadata": {
    "colab": {},
    "colab_type": "code",
    "id": "FKu1Wb7J0OR7"
   },
   "outputs": [],
   "source": [
    "# Export data as csv file\n",
    "usa.to_csv(\"united_states_covid19.csv\", index= False)"
   ]
  },
  {
   "cell_type": "code",
   "execution_count": 264,
   "metadata": {
    "colab": {},
    "colab_type": "code",
    "id": "BzX4A4tEMVIv"
   },
   "outputs": [],
   "source": [
    "# Rename column headers and convert to lowercase\n",
    "usa.columns = usa.columns.str.replace(\"/\", \" \")\n",
    "usa.columns = usa.columns.str.replace(\" \", \"_\").str.lower()"
   ]
  },
  {
   "cell_type": "code",
   "execution_count": 265,
   "metadata": {
    "colab": {
     "base_uri": "https://localhost:8080/",
     "height": 106
    },
    "colab_type": "code",
    "id": "XDKczBgsPEyR",
    "outputId": "02d6c4f1-2b41-458c-8071-93707f7e481f"
   },
   "outputs": [
    {
     "data": {
      "text/html": [
       "<div>\n",
       "<style scoped>\n",
       "    .dataframe tbody tr th:only-of-type {\n",
       "        vertical-align: middle;\n",
       "    }\n",
       "\n",
       "    .dataframe tbody tr th {\n",
       "        vertical-align: top;\n",
       "    }\n",
       "\n",
       "    .dataframe thead th {\n",
       "        text-align: right;\n",
       "    }\n",
       "</style>\n",
       "<table border=\"1\" class=\"dataframe\">\n",
       "  <thead>\n",
       "    <tr style=\"text-align: right;\">\n",
       "      <th></th>\n",
       "      <th>usa_state</th>\n",
       "      <th>total_cases</th>\n",
       "      <th>new_cases</th>\n",
       "      <th>total_deaths</th>\n",
       "      <th>new_deaths</th>\n",
       "      <th>active_cases</th>\n",
       "      <th>total_cases_1m_pop</th>\n",
       "      <th>deaths_1m_pop</th>\n",
       "      <th>total_tests</th>\n",
       "      <th>tests_1m_pop</th>\n",
       "    </tr>\n",
       "  </thead>\n",
       "  <tbody>\n",
       "    <tr>\n",
       "      <th>1</th>\n",
       "      <td>New York</td>\n",
       "      <td>277445</td>\n",
       "      <td>0</td>\n",
       "      <td>21728</td>\n",
       "      <td>437</td>\n",
       "      <td>224499</td>\n",
       "      <td>14142.0</td>\n",
       "      <td>1108.0</td>\n",
       "      <td>730656</td>\n",
       "      <td>37243.0</td>\n",
       "    </tr>\n",
       "    <tr>\n",
       "      <th>2</th>\n",
       "      <td>New Jersey</td>\n",
       "      <td>102196</td>\n",
       "      <td>0</td>\n",
       "      <td>5617</td>\n",
       "      <td>0</td>\n",
       "      <td>95308</td>\n",
       "      <td>11506.0</td>\n",
       "      <td>632.0</td>\n",
       "      <td>205921</td>\n",
       "      <td>23184.0</td>\n",
       "    </tr>\n",
       "  </tbody>\n",
       "</table>\n",
       "</div>"
      ],
      "text/plain": [
       "    usa_state  total_cases  new_cases  total_deaths  new_deaths  active_cases  \\\n",
       "1    New York       277445          0         21728         437        224499   \n",
       "2  New Jersey       102196          0          5617           0         95308   \n",
       "\n",
       "   total_cases_1m_pop  deaths_1m_pop  total_tests  tests_1m_pop  \n",
       "1             14142.0         1108.0       730656       37243.0  \n",
       "2             11506.0          632.0       205921       23184.0  "
      ]
     },
     "execution_count": 265,
     "metadata": {},
     "output_type": "execute_result"
    }
   ],
   "source": [
    "usa.head(2)"
   ]
  },
  {
   "cell_type": "markdown",
   "metadata": {
    "colab": {},
    "colab_type": "code",
    "id": "bFLxWnRBc0DX"
   },
   "source": [
    "# Analysis"
   ]
  },
  {
   "cell_type": "code",
   "execution_count": 266,
   "metadata": {},
   "outputs": [
    {
     "data": {
      "image/png": "[encoded data removed]",
      "text/plain": [
       "<Figure size 720x360 with 1 Axes>"
      ]
     },
     "metadata": {},
     "output_type": "display_data"
    }
   ],
   "source": [
    "# Filter out the continent column\n",
    "plt.figure(figsize= (10, 5))\n",
    "worldwide['continent'].value_counts().sort_values()[1:].plot.barh()\n",
    "plt.xlabel('Country')\n",
    "plt.ylabel('Continent')\n",
    "plt.title('Number of Countries Impacted by COVID-19 per Continent', fontsize = 15);"
   ]
  },
  {
   "cell_type": "markdown",
   "metadata": {},
   "source": [
    "### Which continent has the highest total cases, total deaths and total recovered?"
   ]
  },
  {
   "cell_type": "code",
   "execution_count": 267,
   "metadata": {},
   "outputs": [
    {
     "data": {
      "image/png": "[encoded data removed]",
      "text/plain": [
       "<Figure size 1080x432 with 3 Axes>"
      ]
     },
     "metadata": {},
     "output_type": "display_data"
    }
   ],
   "source": [
    "\n",
    "con =worldwide.groupby('continent').sum()\n",
    "plt.figure(figsize= (15, 6))\n",
    "\n",
    "# Total cases\n",
    "plt.subplot(1,3, 1)\n",
    "con.total_cases.sort_values(ascending = False)[:-1].plot.bar()\n",
    "plt.xticks(rotation = 80)\n",
    "plt.ylabel('Total Cases', color = 'cornflowerblue')\n",
    "plt.xlabel('Continent')\n",
    "plt.title('Total Cases per Continent', fontsize= 16, color = 'cornflowerblue')\n",
    "\n",
    "# Total deaths\n",
    "plt.subplot(1,3, 2)\n",
    "con.total_deaths.sort_values(ascending = False)[:-1].plot.bar(color = 'r')\n",
    "plt.xticks(rotation = 80)\n",
    "plt.ylabel('Total Deaths', color = 'r')\n",
    "plt.xlabel('Continent')\n",
    "plt.title('Total Deaths per Continent', fontsize= 16, color = 'r')\n",
    "\n",
    "# Total recovered\n",
    "plt.subplot(1,3, 3)\n",
    "con.total_recovered.sort_values(ascending = False)[:-1].plot.bar(color = 'g')\n",
    "plt.xticks(rotation = 80)\n",
    "plt.ylabel('Total Recovered', color = 'g')\n",
    "plt.xlabel('Continent')\n",
    "plt.title('Total Recovered per Continent', fontsize= 16, color = 'g' );"
   ]
  },
  {
   "cell_type": "markdown",
   "metadata": {},
   "source": [
    "### What are the top 10 countries in the world with the highest total cases, total deaths and total recovered?"
   ]
  },
  {
   "cell_type": "code",
   "execution_count": 268,
   "metadata": {},
   "outputs": [
    {
     "data": {
      "image/png": "[encoded data removed]",
      "text/plain": [
       "<Figure size 1080x432 with 3 Axes>"
      ]
     },
     "metadata": {},
     "output_type": "display_data"
    }
   ],
   "source": [
    "plt.figure(figsize= (15, 6))\n",
    "\n",
    "# Total cases\n",
    "plt.subplot(1,3, 1)\n",
    "worldwide[\"total_cases\"].head(10).plot.bar()\n",
    "plt.xticks(rotation = 80)\n",
    "plt.ylabel('Total Cases', color = 'cornflowerblue')\n",
    "plt.title('Total Cases per Country', fontsize= 16, color = 'cornflowerblue')\n",
    "\n",
    "# Total deaths\n",
    "plt.subplot(1,3, 2)\n",
    "worldwide.total_deaths.sort_values(ascending = False)[:10].plot.bar(color = 'r')\n",
    "plt.xticks(rotation = 80)\n",
    "plt.ylabel('Total Deaths', color = 'r')\n",
    "plt.title('Total Deaths per Country', fontsize= 16, color = 'r')\n",
    "\n",
    "# Total recovered\n",
    "plt.subplot(1,3, 3)\n",
    "worldwide.total_recovered.sort_values(ascending = False)[:10].plot.bar(color = 'g')\n",
    "plt.xticks(rotation = 80)\n",
    "plt.ylabel('Total Recovered', color = 'g')\n",
    "plt.title('Total Recovered per Country', fontsize= 16, color = 'g' );"
   ]
  },
  {
   "cell_type": "markdown",
   "metadata": {},
   "source": [
    "### What are the top 10  USA States with the highest total cases and total deaths ?"
   ]
  },
  {
   "cell_type": "code",
   "execution_count": 269,
   "metadata": {},
   "outputs": [],
   "source": [
    "# set 'usa_state' column as an index\n",
    "usa.set_index('usa_state', inplace= True)"
   ]
  },
  {
   "cell_type": "code",
   "execution_count": 270,
   "metadata": {},
   "outputs": [
    {
     "data": {
      "image/png": "[encoded data removed]",
      "text/plain": [
       "<Figure size 1440x432 with 2 Axes>"
      ]
     },
     "metadata": {},
     "output_type": "display_data"
    }
   ],
   "source": [
    "plt.figure(figsize= (20, 6))\n",
    "\n",
    "# Total cases\n",
    "plt.subplot(1,3, 1)\n",
    "usa[\"total_cases\"].head(10).plot.bar()\n",
    "plt.xticks(rotation = 80)\n",
    "plt.xlabel('State')\n",
    "plt.ylabel('Total Cases', color = 'cornflowerblue')\n",
    "plt.title('Total Cases per State', fontsize= 16, color = 'cornflowerblue')\n",
    "\n",
    "# Total deaths\n",
    "plt.subplot(1,3, 2)\n",
    "usa.total_deaths.sort_values(ascending = False)[:10].plot.bar(color = 'r')\n",
    "plt.xticks(rotation = 80)\n",
    "plt.xlabel('State')\n",
    "plt.ylabel('Total Deaths', color = 'r')\n",
    "plt.title('Total Deaths per State', fontsize= 16, color = 'r');"
   ]
  },
  {
   "cell_type": "code",
   "execution_count": null,
   "metadata": {},
   "outputs": [],
   "source": []
  },
  {
   "cell_type": "code",
   "execution_count": null,
   "metadata": {},
   "outputs": [],
   "source": []
  },
  {
   "cell_type": "code",
   "execution_count": null,
   "metadata": {},
   "outputs": [],
   "source": []
  }
 ],
 "metadata": {
  "accelerator": "TPU",
  "colab": {
   "name": "covid_19 statistics.ipynb",
   "provenance": []
  },
  "kernelspec": {
   "display_name": "Python 3",
   "language": "python",
   "name": "python3"
  },
  "language_info": {
   "codemirror_mode": {
    "name": "ipython",
    "version": 3
   },
   "file_extension": ".py",
   "mimetype": "text/x-python",
   "name": "python",
   "nbconvert_exporter": "python",
   "pygments_lexer": "ipython3",
   "version": "3.7.4"
  }
 },
 "nbformat": 4,
 "nbformat_minor": 1
}
